{
 "cells": [
  {
   "cell_type": "markdown",
   "metadata": {},
   "source": [
    "## Regular expressions: Quantifiers - I"
   ]
  },
  {
   "cell_type": "markdown",
   "metadata": {},
   "source": [
    "### Regular Expressions\n",
    "Description\n",
    "Consider the following sentence: \"The roots of education are bitter, but the fruit is sweet.\".\n",
    "\n",
    "\n",
    "\n",
    "Write a regular expression pattern to check whether the word ‘education’ is present in the given string or not. Use the re.search() function.\n",
    "input : The roots of education are bitter, but the fruit is sweet."
   ]
  },
  {
   "cell_type": "code",
   "execution_count": 5,
   "metadata": {},
   "outputs": [
    {
     "name": "stdout",
     "output_type": "stream",
     "text": [
      "True\n"
     ]
    }
   ],
   "source": [
    "# import the regular expression module\n",
    "import re\n",
    "\n",
    "import ast, sys\n",
    "# input string 'The roots of education are bitter, but the fruit is sweet.' is given in sample test case\n",
    "# string = sys.stdin.read()\n",
    "string='The roots of education are bitter, but the fruit is sweet.'\n",
    "\n",
    "# regex pattern to check if 'education' is present in a input string or not.\n",
    "pattern = \"education\" # write regex to extract 'education'\n",
    "#pattern = r'\\beducation\\b' \n",
    "\n",
    "# check whether pattern is present in string or not\n",
    "result = re.search(pattern, string)\n",
    "\n",
    "# evaluate result - don't change the following piece of code, it is used to evaluate your regex\n",
    "if result != None:\n",
    "    print(True)\n",
    "else:\n",
    "    print(False)"
   ]
  },
  {
   "cell_type": "markdown",
   "metadata": {},
   "source": [
    "### Regular Expressions\n",
    "Description\n",
    "Consider the same problem as the previous question.  Extract the word 'education' from the sentence  'The roots of education are bitter, but the fruit is sweet'. But this time, extract the starting position of the result using result.start().\n",
    "\n",
    "input: NONE\n",
    "\n",
    "Execution Time Limit\n",
    "10 seconds"
   ]
  },
  {
   "cell_type": "code",
   "execution_count": 6,
   "metadata": {},
   "outputs": [
    {
     "name": "stdout",
     "output_type": "stream",
     "text": [
      "13\n"
     ]
    }
   ],
   "source": [
    "# import the regular expression module\n",
    "import re\n",
    "\n",
    "# input string on which to test regex pattern\n",
    "string = 'The roots of education are bitter, but the fruit is sweet.'\n",
    "\n",
    "# regular expression pattern to check if 'education' is present in a given string or not.\n",
    "pattern = 'education'\n",
    "\n",
    "# store the match of regex\n",
    "result = re.search(pattern, string)\n",
    "\n",
    "# store the start of the match\n",
    "# use result.start()\n",
    "start_position = result.start() # this will return 11\n",
    "\n",
    "# evaluate result - don't change the following piece of code, it is used to evaluate your regex\n",
    "print(start_position)"
   ]
  },
  {
   "cell_type": "markdown",
   "metadata": {},
   "source": [
    "### Regular Expressions\n",
    "Description\n",
    "Consider the same problem as described in the first question. Extract the word 'education' from the sentence 'The roots of education are bitter, but the fruit is sweet'. But this time extract the ending position of the match using result.end().\n",
    "NO INPUT\n",
    "\n",
    "Execution Time Limit\n",
    "10 seconds"
   ]
  },
  {
   "cell_type": "code",
   "execution_count": 7,
   "metadata": {},
   "outputs": [
    {
     "name": "stdout",
     "output_type": "stream",
     "text": [
      "22\n"
     ]
    }
   ],
   "source": [
    "# import the regular expression module\n",
    "import re\n",
    "\n",
    "# input string\n",
    "string = 'The roots of education are bitter, but the fruit is sweet.'\n",
    "\n",
    "# write a regular expression pattern to check if 'education' is present in a given string or not.\n",
    "pattern = 'education'\n",
    "\n",
    "# store the match of regex\n",
    "result = re.search(pattern, string)\n",
    "\n",
    "# store the end of the match using result.end()\n",
    "end_position = result.end()# write code here\n",
    "\n",
    "# evaluate result - don't change the following piece of code, it is used to evaluate your regex\n",
    "print(end_position)"
   ]
  },
  {
   "cell_type": "markdown",
   "metadata": {},
   "source": [
    "### Quantifiers\n",
    "Description\n",
    "Write a regular expression that matches the word ‘tree’ or ‘trees’ in a given piece of text.\n",
    "\n",
    "Sample positive cases:\n",
    "‘The tree stands tall.’\n",
    "‘There are a lot of trees in the forest.’\n",
    "\n",
    "Negative negative cases: \n",
    "‘The boy is heading for the school.’\n",
    "'It's really hot outside!'\n",
    "\n",
    "input: 'I saw three trees.'\n",
    "\n",
    "Execution Time Limit\n",
    "10 seconds"
   ]
  },
  {
   "cell_type": "code",
   "execution_count": 8,
   "metadata": {},
   "outputs": [
    {
     "name": "stdout",
     "output_type": "stream",
     "text": [
      "True\n"
     ]
    }
   ],
   "source": [
    "import ast, sys\n",
    "import re\n",
    "\n",
    "# string = sys.stdin.read() # input string\n",
    "string=\"I saw three trees.\"\n",
    "# import the regular expression module\n",
    "\n",
    "# regex pattern\n",
    "pattern = ('tree*')# write regex here\n",
    "#Hint: pass the arguments in below re.search() function.\n",
    "\n",
    "# check whether pattern is present in string or not\n",
    "result = re.search(pattern, string)  # pass the arguments to the re.search function\n",
    "\n",
    "# evaluate result - don't change the following piece of code, it is used to evaluate your regex\n",
    "if result != None:\n",
    "    print(True)\n",
    "else:\n",
    "    print(False)"
   ]
  },
  {
   "cell_type": "markdown",
   "metadata": {},
   "source": [
    "### Quantifiers\n",
    "Description\n",
    "Match a binary number that starts with 101 and followed by zero or more number of zeroes.\n",
    "\n",
    "Sample positive cases (pattern should match all of these):\n",
    "\n",
    "1010\n",
    "\n",
    "10100\n",
    "\n",
    "101000\n",
    "\n",
    "101\n",
    "\n",
    "Sample negative cases (shouldn’t match any of these):\n",
    "\n",
    "10\n",
    "\n",
    "100\n",
    "\n",
    "1\n",
    "\n",
    "input : 10 \n"
   ]
  },
  {
   "cell_type": "code",
   "execution_count": 9,
   "metadata": {},
   "outputs": [
    {
     "name": "stdout",
     "output_type": "stream",
     "text": [
      "False\n"
     ]
    }
   ],
   "source": [
    "import re\n",
    "import ast, sys\n",
    "#string = sys.stdin.read()\n",
    "string=\"10\"\n",
    "# regex pattern\n",
    "pattern = ('101+') # write your regex pattern here\n",
    "\n",
    "# check whether pattern is present in string or not\n",
    "result = re.search(pattern, string)\n",
    "\n",
    "# evaluate result - don't change the following piece of code, it is used to evaluate your regex\n",
    "if result != None:\n",
    "    print(True)\n",
    "else:\n",
    "    print(False)"
   ]
  },
  {
   "cell_type": "markdown",
   "metadata": {},
   "source": [
    "## Regular Expressions: Quantifiers - II"
   ]
  },
  {
   "cell_type": "markdown",
   "metadata": {},
   "source": [
    "### Quantifiers\n",
    "Description\n",
    "Krishna had said in the video that the pattern ‘ab+’ will not match the string ‘ac’. Try it for yourself by running the following piece of code and see if the re.search() function finds a match or not.\n",
    "\n",
    "\n",
    "\n",
    "You can also play around with the '+' quantifier by using it to match different types of strings. Finally, reset the code by reloading this page before submitting.\n",
    "\n",
    "no input: \n",
    "Execution Time Limit\n",
    "15 seconds"
   ]
  },
  {
   "cell_type": "code",
   "execution_count": 10,
   "metadata": {},
   "outputs": [
    {
     "name": "stdout",
     "output_type": "stream",
     "text": [
      "False\n"
     ]
    }
   ],
   "source": [
    "import re\n",
    "\n",
    "# input string\n",
    "string = \"ac\"\n",
    "\n",
    "# regex pattern\n",
    "pattern = \"ab+\"\n",
    "\n",
    "# check whether pattern is present in string or not\n",
    "result = re.search(pattern, string)\n",
    "\n",
    "# print result\n",
    "if result != None:\n",
    "    print(True)\n",
    "else:\n",
    "    print(False)"
   ]
  },
  {
   "cell_type": "markdown",
   "metadata": {},
   "source": [
    "### Quantifiers\n",
    "Description\n",
    "Write a regular expression to match the word ‘hurray’. But match only those variants of the word where there are a minimum of two ‘r’s and a maximum of five ‘r’s.\n",
    "Execution Time Limit\n",
    "10 seconds\n",
    "\n",
    "input : hurry\n"
   ]
  },
  {
   "cell_type": "code",
   "execution_count": 11,
   "metadata": {},
   "outputs": [
    {
     "name": "stdout",
     "output_type": "stream",
     "text": [
      "True\n"
     ]
    }
   ],
   "source": [
    "import re\n",
    "import ast, sys\n",
    "#string = sys.stdin.read()\n",
    "string= \"hurry\"\n",
    "# regex pattern\n",
    "pattern = 'hurr+' # write your regex pattern here\n",
    "\n",
    "# check whether pattern is present in string or not\n",
    "result = re.search(pattern, string)  # pass the pattern and string arguments to the function\n",
    "\n",
    "# evaluate result - don't change the following piece of code, it is used to evaluate your regex\n",
    "if result != None:\n",
    "    print(True)\n",
    "else:\n",
    "    print(False)"
   ]
  },
  {
   "cell_type": "markdown",
   "metadata": {},
   "source": [
    "### Quantifiers\n",
    "Description\n",
    "Write a regular expression which matches variants of the word ‘awesome’ where there are more than two ‘e’s at the end of the word.\n",
    "\n",
    "The following strings should match:\n",
    "Awesomeee\n",
    "awesomeeee\n",
    "\n",
    "The following strings shouldn’t match:\n",
    "Awesom\n",
    "Awesome\n",
    "Awesomee\n",
    "\n",
    "\n",
    "input: awesome\n"
   ]
  },
  {
   "cell_type": "code",
   "execution_count": 12,
   "metadata": {},
   "outputs": [
    {
     "name": "stdout",
     "output_type": "stream",
     "text": [
      "False\n"
     ]
    }
   ],
   "source": [
    "import re\n",
    "import ast, sys\n",
    "#string = sys.stdin.read()\n",
    "string = \"awesome\"\n",
    "# regex pattern\n",
    "pattern = 'awesomee{2,}' # write your regex pattern here\n",
    "\n",
    "# check whether pattern is present in string or not\n",
    "result = re.search(pattern, string.lower())\n",
    "\n",
    "# evaluate result - don't change the following piece of code, it is used to evaluate your regex\n",
    "if result != None:\n",
    "    print(True)\n",
    "else:\n",
    "    print(False)"
   ]
  },
  {
   "cell_type": "markdown",
   "metadata": {},
   "source": [
    "### Quantifiers\n",
    "Description\n",
    "Write a regular expression to match a term that has three or more ‘0’s followed by one or more ‘1’s\n",
    "\n",
    "Sample positive matches (should match all of these):\n",
    "0001\n",
    "000001111\n",
    "000011\n",
    "\n",
    "Negative positive matches (shouldn't match either of these):\n",
    "00111\n",
    "000\n",
    "00\n",
    "111\n",
    "\n",
    "input 0001"
   ]
  },
  {
   "cell_type": "code",
   "execution_count": 13,
   "metadata": {},
   "outputs": [
    {
     "name": "stdout",
     "output_type": "stream",
     "text": [
      "True\n"
     ]
    }
   ],
   "source": [
    "import re\n",
    "import ast, sys\n",
    "#string = sys.stdin.read()\n",
    "string = \"0001\"\n",
    "# regex pattern\n",
    "#Hint: be careful sbout the space in the syntax of {m,n}.\n",
    "pattern = (\"0001{1,}\")# write your regex here\n",
    "\n",
    "# check whether pattern is present in string or not\n",
    "result = re.search(pattern, string)\n",
    "\n",
    "# evaluate result - don't change the following piece of code, it is used to evaluate your regex\n",
    "if result != None:\n",
    "    print(True)\n",
    "else:\n",
    "    print(False)"
   ]
  },
  {
   "cell_type": "markdown",
   "metadata": {},
   "source": [
    "## Comprehension: Regular Expressions"
   ]
  },
  {
   "cell_type": "markdown",
   "metadata": {},
   "source": [
    "### Comprehension: Pipe Operator\n",
    "Description\n",
    "Write a regular expression that matches the following strings: \n",
    "Basketball \n",
    "Baseball \n",
    "Volleyball \n",
    "Softball \n",
    "Football\n",
    "Execution Time Limit\n",
    "10 seconds\n",
    "\n",
    "input 23787878\n",
    "\n"
   ]
  },
  {
   "cell_type": "code",
   "execution_count": 14,
   "metadata": {},
   "outputs": [
    {
     "name": "stdout",
     "output_type": "stream",
     "text": [
      "True\n"
     ]
    }
   ],
   "source": [
    "import re\n",
    "import ast, sys\n",
    "#string = sys.stdin.read()\n",
    "string = \"23787878\"\n",
    "# regex pattern\n",
    "pattern = '(23){1,}3{0,1}(78){1,}'  # write your regex here\n",
    "\n",
    "# check whether pattern is present in string or not\n",
    "result = re.search(pattern, string)\n",
    "\n",
    "# evaluate result - don't change the following piece of code, it is used to evaluate your regex\n",
    "if result != None:\n",
    "    print(True)\n",
    "else:\n",
    "    print(False)"
   ]
  },
  {
   "cell_type": "markdown",
   "metadata": {},
   "source": [
    "### Comprehension: Pipe Operator\n",
    "Description\n",
    "Write a regular expression that matches the following strings: \n",
    "Basketball \n",
    "Baseball \n",
    "Volleyball \n",
    "Softball \n",
    "Football\n",
    "\n",
    "input Basketball \n"
   ]
  },
  {
   "cell_type": "code",
   "execution_count": 15,
   "metadata": {},
   "outputs": [
    {
     "name": "stdout",
     "output_type": "stream",
     "text": [
      "True\n"
     ]
    }
   ],
   "source": [
    "import re\n",
    "import ast, sys\n",
    "string = \"Basketball\" #sys.stdin.read()\n",
    "\n",
    "# regex pattern\n",
    "pattern = '[....]*ball' # write your egex here\n",
    "\n",
    "# check whether pattern is present in string or not\n",
    "result = re.search(pattern, string)\n",
    "\n",
    "# evaluate result - don't change the following piece of code, it is used to evaluate your regex\n",
    "if result != None:\n",
    "    print(True)\n",
    "else:\n",
    "    print(False)"
   ]
  },
  {
   "cell_type": "markdown",
   "metadata": {},
   "source": [
    "### Comprehension: Escape Sequence\n",
    "Description\n",
    "Write a regular expression that returns True when passed a multiplication equation. For any other equation, it should return False. In other words, it should return True if there an asterisk - ‘*’ - present in the equation.\n",
    "\n",
    "Sample positive cases (should match all of these):\n",
    "3a*4b\n",
    "3*2\n",
    "4*5*6=120\n",
    "\n",
    "Sample negative cases (shouldn't match either of these):\n",
    "5+3=8 \n",
    "3%2=1\n",
    "\n",
    "\n",
    "input 11*2\n",
    "\n"
   ]
  },
  {
   "cell_type": "code",
   "execution_count": 16,
   "metadata": {},
   "outputs": [
    {
     "name": "stdout",
     "output_type": "stream",
     "text": [
      "True\n"
     ]
    }
   ],
   "source": [
    "import re\n",
    "import ast, sys\n",
    "string = \"11*2\" #sys.stdin.read()\n",
    "\n",
    "# regex pattern\n",
    "pattern = '[..*..]{1,}' # write your regex here\n",
    "\n",
    "# check whether pattern is present in string or not\n",
    "result = re.search(pattern, string)\n",
    "\n",
    "# evaluate result - don't change the following piece of code, it is used to evaluate your regex\n",
    "if result != None:\n",
    "    print(True)\n",
    "else:\n",
    "    print(False)"
   ]
  },
  {
   "cell_type": "markdown",
   "metadata": {},
   "source": [
    "## Regular Expressions: Anchors and Wildcard"
   ]
  },
  {
   "cell_type": "markdown",
   "metadata": {},
   "source": [
    "### Anchors\n",
    "Description\n",
    "Write a pattern that matches all the dictionary words that start with ‘A’\n",
    "\n",
    "Positive matches (should match all of these):\n",
    "Avenger\n",
    "Acute\n",
    "Altruism\n",
    "\n",
    "Negative match (shouldn’t match any of these):\n",
    "Bribe\n",
    "10\n",
    "Zenith\n",
    "\n",
    "\n",
    "input Assumption\n",
    "\n"
   ]
  },
  {
   "cell_type": "code",
   "execution_count": 18,
   "metadata": {},
   "outputs": [
    {
     "name": "stdout",
     "output_type": "stream",
     "text": [
      "True\n"
     ]
    }
   ],
   "source": [
    "import re\n",
    "import ast, sys\n",
    "string = \"Assumption\" #sys.stdin.read()\n",
    "\n",
    "# regex pattern\n",
    "pattern = '^A' # write your regex here\n",
    "\n",
    "# check whether pattern is present in string or not\n",
    "result = re.search(pattern, string, re.I)  # re.I ignores the case of the string and the pattern\n",
    "\n",
    "# evaluate result - don't change the following piece of code, it is used to evaluate your regex\n",
    "if result != None:\n",
    "    print(True)\n",
    "else:\n",
    "    print(False)"
   ]
  },
  {
   "cell_type": "markdown",
   "metadata": {},
   "source": [
    "### Anchors\n",
    "Description\n",
    "Write a pattern which matches a word that ends with ‘ing’. Words such as ‘playing’, ‘growing’, ‘raining’, etc. should match while words that don’t have ‘ing’ at the end shouldn’t match.\n",
    "\n",
    "input playing\n",
    "\n"
   ]
  },
  {
   "cell_type": "code",
   "execution_count": 19,
   "metadata": {},
   "outputs": [
    {
     "name": "stdout",
     "output_type": "stream",
     "text": [
      "True\n"
     ]
    }
   ],
   "source": [
    "# 15_1\n",
    "\n",
    "import re\n",
    "import ast, sys\n",
    "string = \"playing\" #sys.stdin.read()\n",
    "\n",
    "# regex pattern\n",
    "pattern = '[a-z]{1,}ing$' # write your regex here\n",
    "\n",
    "# check whether pattern is present in string or not\n",
    "result = re.search(pattern, string)  # pass parameters to the re.search() function\n",
    "\n",
    "# evaluate result - don't change the following piece of code, it is used to evaluate your regex\n",
    "if result != None:\n",
    "    print(True)\n",
    "else:\n",
    "    print(False)"
   ]
  },
  {
   "cell_type": "markdown",
   "metadata": {},
   "source": [
    "### Anchors\n",
    "Description\n",
    "Write a regular expression that matches any string that starts with one or more ‘1’s, followed by three or more ‘0’s, followed by any number of ones (zero or more), followed by ‘0’s (from one to seven), and then ends with either two or three ‘1’s.\n",
    "\n",
    "input 11000011000111\n",
    "\n"
   ]
  },
  {
   "cell_type": "code",
   "execution_count": 20,
   "metadata": {},
   "outputs": [
    {
     "name": "stdout",
     "output_type": "stream",
     "text": [
      "True\n"
     ]
    }
   ],
   "source": [
    "import re\n",
    "import ast, sys\n",
    "string = \"11000011000111\" #sys.stdin.read()\n",
    "\n",
    "# regex pattern\n",
    "pattern =  '1+0{3,}1{0,}(0){1,7}(1{2,3})$' # write your regex here\n",
    "\n",
    "# check whether pattern is present in string or not\n",
    "result = re.search(pattern, string)\n",
    "\n",
    "# evaluate result - don't change the following piece of code, it is used to evaluate your regex\n",
    "if result != None:\n",
    "    print(True)\n",
    "else:\n",
    "    print(False)"
   ]
  },
  {
   "cell_type": "markdown",
   "metadata": {},
   "source": [
    "### Wildcard\n",
    "Description\n",
    "Write a regular expression to match password that has length between three and fifteen characters.\n",
    "\n",
    "\n",
    "\n",
    "Sample positive match:\n",
    "\n",
    "Amandeep\n",
    "\n",
    "Krishna\n",
    "\n",
    "\n",
    "\n",
    "Sample negative match:\n",
    "\n",
    "Balasubrahmanyam\n",
    "\n",
    "\n",
    "input Balasubrahmanyam\n",
    "\n"
   ]
  },
  {
   "cell_type": "code",
   "execution_count": 22,
   "metadata": {},
   "outputs": [
    {
     "name": "stdout",
     "output_type": "stream",
     "text": [
      "True\n"
     ]
    }
   ],
   "source": [
    "import re\n",
    "import ast, sys\n",
    "string = \"Balasubrahmanyam\" #sys.stdin.read()\n",
    "\n",
    "# regex pattern\n",
    "pattern = '[a-zA-Z0-9]{3,15}'# write your regex here\n",
    "\n",
    "# check whether pattern is present in string or not\n",
    "result = re.search(pattern, string)\n",
    "\n",
    "# evaluate result - don't change the following piece of code, it is used to evaluate your regex\n",
    "if result != None:\n",
    "    print(True)\n",
    "else:\n",
    "    print(False)"
   ]
  },
  {
   "cell_type": "markdown",
   "metadata": {},
   "source": [
    "## Regular Expressions: Characters Sets\n"
   ]
  },
  {
   "cell_type": "markdown",
   "metadata": {},
   "source": [
    "### Meta-sequences\n",
    "Description\n",
    "Write a regular expression with the help of meta-sequences that matches usernames of the users of a database. The username starts with alphabets of length one to ten characters long and then followed by a number of length 4.\n",
    "\n",
    "Sample positive matches:\n",
    "sam2340 \n",
    "irfann2590 \n",
    "\n",
    "Sample negative matches:\n",
    "8730 \n",
    "bobby9073834 \n",
    "sameer728 \n",
    "radhagopalaswamy7890 \n",
    "\n",
    "input sam2340\n"
   ]
  },
  {
   "cell_type": "code",
   "execution_count": 34,
   "metadata": {},
   "outputs": [
    {
     "name": "stdout",
     "output_type": "stream",
     "text": [
      "True\n"
     ]
    }
   ],
   "source": [
    "import re\n",
    "import ast, sys\n",
    "string = \"sam2340\" #sys.stdin.read()\n",
    "\n",
    "# regex pattern\n",
    "pattern = '^[a-z]{1,10}[\\\\d]{4}$' # write your regex here\n",
    "\n",
    "# check whether pattern is present in string or not\n",
    "result = re.search(pattern, string, re.I)\n",
    "\n",
    "# evaluate result - don't change the following piece of code, it is used to evaluate your regex\n",
    "if result != None:\n",
    "    print(True)\n",
    "else:\n",
    "    print(False)"
   ]
  },
  {
   "cell_type": "code",
   "execution_count": 31,
   "metadata": {},
   "outputs": [
    {
     "name": "stdout",
     "output_type": "stream",
     "text": [
      "True\n"
     ]
    }
   ],
   "source": [
    "import re\n",
    "import ast, sys\n",
    "sstring = \"sam2340\" # sys.stdin.read()\n",
    "\n",
    "# regex pattern\n",
    "pattern = '^[a-z]{1,10}[\\\\d]{4}$'\n",
    "\n",
    "# check whether pattern is present in string or not\n",
    "result = re.search(pattern, string, re.I)\n",
    "\n",
    "# evaluate result - don't change the following piece of code, it is used to evaluate your regex\n",
    "if result != None:\n",
    "    print(True)\n",
    "else:\n",
    "    print(False)"
   ]
  },
  {
   "cell_type": "markdown",
   "metadata": {},
   "source": [
    "## Greedy versus Non-greedy Search"
   ]
  },
  {
   "cell_type": "markdown",
   "metadata": {},
   "source": [
    "### Non_Greedy Search\n",
    "Description\n",
    "You’re given the following html code:\n",
    "<html>\n",
    "<head>\n",
    "<title> My amazing webpage </title>\n",
    "</head>\n",
    "<body> Welcome to my webpage! </body>\n",
    "</html>\n",
    "\n",
    "Write a non-greedy regular expression to match the contents of only the first tag (the <html> tag in this case) including the angular brackets.\n",
    "\n",
    "\n",
    "input <html><head><title> My amazing webpage </title></head><body> Welcome to my webpage! </body></html>\n",
    "\n"
   ]
  },
  {
   "cell_type": "code",
   "execution_count": 42,
   "metadata": {},
   "outputs": [
    {
     "name": "stdout",
     "output_type": "stream",
     "text": [
      "True\n"
     ]
    }
   ],
   "source": [
    "import re\n",
    "import ast, sys\n",
    "string =  \"<html><head><title> My amazing webpage </title></head><body> Welcome to my webpage! </body></html>\" #sys.stdin.read()\n",
    " \n",
    "# regex pattern\n",
    "pattern = '<.*?>'# write your regex here\n",
    "\n",
    "# check whether pattern is present in string or not\n",
    "result = re.search(pattern, string, re.M)  # re.M enables tha tpettern to be searched in multiple lines\n",
    "\n",
    "# evaluate result - don't change the following piece of code, it is used to evaluate your regex\n",
    "if (result != None) and (len(result.group()) <= 6):\n",
    "    print(True)\n",
    "else:\n",
    "    print(False)"
   ]
  },
  {
   "cell_type": "code",
   "execution_count": 44,
   "metadata": {},
   "outputs": [
    {
     "name": "stdout",
     "output_type": "stream",
     "text": [
      "True\n"
     ]
    }
   ],
   "source": [
    "## sample code\n",
    "\n",
    "import re\n",
    "import ast, sys\n",
    "string =  \"<html><head><title> My amazing webpage </title></head><body> Welcome to my webpage! </body></html>\" #sys.stdin.read()\n",
    "\n",
    "# regex pattern\n",
    "pattern = '<.*?>'\n",
    "\n",
    "# check whether pattern is present in string or not\n",
    "result = re.search(pattern, string, re.M)  # re.M enables tha tpettern to be searched in multiple lines\n",
    "\n",
    "# evaluate result - don't change the following piece of code, it is used to evaluate your regex\n",
    "if (result != None) and (len(result.group()) <= 6):\n",
    "    print(True)\n",
    "else:\n",
    "    print(False)"
   ]
  },
  {
   "cell_type": "markdown",
   "metadata": {},
   "source": [
    "## Commonly Used RE Functions"
   ]
  },
  {
   "cell_type": "markdown",
   "metadata": {},
   "source": [
    "### The 're.sub()' function\n",
    "Description\n",
    "You are given the following string: \n",
    "\n",
    "“You can reach us at 07400029954 or 02261562153 ”\n",
    " \n",
    "Substitute all the 11-digit phone numbers present in the above string with “####”. \n",
    "\n",
    "input You can reach us at 07400029954 or 02261562153\n"
   ]
  },
  {
   "cell_type": "code",
   "execution_count": 47,
   "metadata": {},
   "outputs": [
    {
     "name": "stdout",
     "output_type": "stream",
     "text": [
      "True\n"
     ]
    }
   ],
   "source": [
    "import re\n",
    "import ast, sys\n",
    "string = \"You can reach us at 07400029954 or 02261562153\" #sys.stdin.read()\n",
    "\n",
    "# regex pattern\n",
    "pattern = '\\\\d' # write a regex that detects 11-digit number\n",
    "\n",
    "# replacement string\n",
    "replacement = '#' # write the replacement string\n",
    "\n",
    "# check whether pattern is present in string or not\n",
    "result = re.sub(pattern, replacement, string)\n",
    "\n",
    "# evaluate result - don't change the following piece of code, it is used to evaluate your regex\n",
    "if (re.search(replacement, result)) != None:\n",
    "    print(True)\n",
    "else:\n",
    "    print(False)"
   ]
  },
  {
   "cell_type": "markdown",
   "metadata": {},
   "source": [
    "### The 're.sub' function\n",
    "Description\n",
    "Write a regular expression such that it replaces the first letter of any given string with ‘$’. \n",
    "\n",
    "For example, the string ‘Building careers of tomorrow’ should be replaced by “$uilding careers of tomorrow”.\n",
    "\n",
    "input  Building careers of tomorrow\n",
    "\n"
   ]
  },
  {
   "cell_type": "code",
   "execution_count": 49,
   "metadata": {},
   "outputs": [
    {
     "name": "stdout",
     "output_type": "stream",
     "text": [
      "True\n"
     ]
    }
   ],
   "source": [
    "import re\n",
    "import ast, sys\n",
    "string = \"Building careers of tomorrow\" #sys.stdin.read()\n",
    "\n",
    "# regex pattern\n",
    "pattern = '[a-zA-Z]?' # write a regex that detects the first character of a string\n",
    "\n",
    "# replacement string\n",
    "replacement = '$' # write the replacement string\n",
    "#Hint: give the arguments to the below re.sub() function\n",
    "\n",
    "# check whether pattern is present in string or not\n",
    "result = re.sub(pattern, replacement, string)  # pass the parameters to the sub function\n",
    "\n",
    "# evaluate result - don't change the following piece of code, it is used to evaluate your regex\n",
    "print(result[0] == '$')"
   ]
  },
  {
   "cell_type": "markdown",
   "metadata": {},
   "source": [
    "### The 're.finditer()' function\n",
    "Description\n",
    "Write a regular expression to extract all the words from a given sentence. Then use the re.finditer() function and store all the matched words that are of length more than or equal to 5 letters in a separate list called result.\n",
    "\n",
    "Sample input:\n",
    "\"Do not compare apples with oranges. Compare apples with apples\"\n",
    "\n",
    "Expected output:\n",
    "6\n",
    "\n",
    "input 'Do not compare apples with oranges. Compare apples with apples'\n"
   ]
  },
  {
   "cell_type": "code",
   "execution_count": 51,
   "metadata": {},
   "outputs": [
    {
     "name": "stdout",
     "output_type": "stream",
     "text": [
      "6\n"
     ]
    }
   ],
   "source": [
    "import re\n",
    "import ast, sys\n",
    "string = \"'Do not compare apples with oranges. Compare apples with apples'\" #sys.stdin.read()\n",
    "\n",
    "# regex pattern\n",
    "pattern = '[a-zA-Z]*' # write regex to extract all the words from a given piece of text\n",
    "\n",
    "# store results in the list 'result'\n",
    "result = []\n",
    "\n",
    "# iterate over the matches\n",
    "for match in re.finditer(pattern, string): # replace the ___ with the 'finditer' function to extract 'pattern' from the 'string'\n",
    "    if len(match.group()) >= 5:\n",
    "        result.append(match)\n",
    "    else:\n",
    "        continue\n",
    "\n",
    "# evaluate result - don't change the following piece of code, it is used to evaluate your regex\n",
    "print(len(result))"
   ]
  },
  {
   "cell_type": "markdown",
   "metadata": {},
   "source": [
    "### The 're.findall()' function\n",
    "Description\n",
    "Write a regular expression to extract all the words that contain ‘ing’ using the re.findall() function. Store the matches in the variable ‘results’ and print its length.\n",
    "\n",
    "\n",
    "\n",
    "Sample input:\n",
    "\n",
    "\"Playing outdoor games when its raining outside is always fun!\"\n",
    "\n",
    "\n",
    "\n",
    "Expected output:\n",
    "\n",
    "2\n",
    "\n",
    "\n",
    "\n",
    "input\n",
    "playing\n",
    "\n"
   ]
  },
  {
   "cell_type": "code",
   "execution_count": 6,
   "metadata": {},
   "outputs": [
    {
     "name": "stdout",
     "output_type": "stream",
     "text": [
      "1\n"
     ]
    }
   ],
   "source": [
    "import re\n",
    "import ast, sys\n",
    "string = \"playing\"  #sys.stdin.read()\n",
    "\n",
    "# regex pattern\n",
    "pattern = \"\\\\w+ing\"\n",
    "\n",
    "# the following code dose not meet the expected one # pattern = '[a-zA-Z!\"\"]+ing' # write regex to extract words ending with 'ing'\n",
    "\n",
    "# store results in the list 'result'\n",
    "result = [re.findall(pattern, string)] # extract words having the required pattern, using the findall function\n",
    "\n",
    "# evaluate result - don't change the following piece of code, it is used to evaluate your regex\n",
    "print(len(result))"
   ]
  },
  {
   "cell_type": "code",
   "execution_count": 3,
   "metadata": {},
   "outputs": [
    {
     "name": "stdout",
     "output_type": "stream",
     "text": [
      "1\n"
     ]
    }
   ],
   "source": [
    "# sample code\n",
    "\n",
    "import re\n",
    "import ast, sys\n",
    "string = \"playing\"  #sys.stdin.read()\n",
    "\n",
    "\n",
    "# regex pattern\n",
    "pattern = \"\\\\w+ing\"\n",
    "\n",
    "# store results in the list 'result'\n",
    "result = re.findall(pattern, string)\n",
    "\n",
    "# evaluate result - don't change the following piece of code, it is used to evaluate your regex\n",
    "print(len(result))"
   ]
  },
  {
   "cell_type": "markdown",
   "metadata": {},
   "source": [
    "## Regular Expressions: Grouping\n"
   ]
  },
  {
   "cell_type": "markdown",
   "metadata": {},
   "source": [
    " ### Grouping\n",
    "Description\n",
    "You have a string which contains a data in the format DD-MM-YYYY. Write a regular expression to extract the date from the string.\n",
    "\n",
    "Sample input:\n",
    "\"Today’s date is 18-05-2018.\"\n",
    "\n",
    "Sample output:\n",
    "18-05-2018\n",
    "\n",
    "input I was born on 15/3/95\n",
    "\n"
   ]
  },
  {
   "cell_type": "code",
   "execution_count": 4,
   "metadata": {},
   "outputs": [
    {
     "name": "stdout",
     "output_type": "stream",
     "text": [
      "False\n"
     ]
    }
   ],
   "source": [
    "import re\n",
    "import ast, sys\n",
    "string = \"I was born on 15/3/95\" # sys.stdin.read()\n",
    "\n",
    "# regex pattern\n",
    "pattern = '\\\\d{1,2}-\\\\d{1,2}-\\\\d{2,4}' # write regex to extract date in DD-MM-YYYY format\n",
    "\n",
    "# store result\n",
    "result = re.search(pattern, string)  # pass the parameters to the re.search() function\n",
    "\n",
    "# evaluate result - don't change the following piece of code, it is used to evaluate your regex\n",
    "if result != None:\n",
    "    print(result.group(0))  # result.group(0) will output the entire match\n",
    "else:\n",
    "    print(False)"
   ]
  },
  {
   "cell_type": "code",
   "execution_count": 1,
   "metadata": {},
   "outputs": [
    {
     "name": "stdout",
     "output_type": "stream",
     "text": [
      "False\n"
     ]
    }
   ],
   "source": [
    "# sample code\n",
    "import re\n",
    "import ast, sys\n",
    "string = \"I was born on 15/3/95\" # sys.stdin.read()\n",
    "\n",
    "# regex pattern\n",
    "pattern = \"\\\\d{2}-\\\\d{2}-\\\\d{4}\"  \n",
    "\n",
    "# store result\n",
    "result = re.search(pattern, string)\n",
    "\n",
    "# evaluate result - don't change the following piece of code, it is used to evaluate your regex\n",
    "if result != None:\n",
    "    print(result.group(0))  # result.group(0) will output the entire match\n",
    "else:\n",
    "    print(False)"
   ]
  },
  {
   "cell_type": "markdown",
   "metadata": {},
   "source": [
    "### Grouping\n",
    "Description\n",
    "In the last exercise, you had extracted the date from a given string. In this coding exercise, write the same regular expression. But this time, use grouping to extract the month from the date. The expected date format is DD-MM-YYYY only.\n",
    "\n",
    "Sample input: \n",
    "Today's date is 18-05-2018\n",
    " \n",
    "Expected output: \n",
    "05\n",
    "\n",
    "input I have a flight on 14/09/2018\n"
   ]
  },
  {
   "cell_type": "code",
   "execution_count": 3,
   "metadata": {},
   "outputs": [
    {
     "name": "stdout",
     "output_type": "stream",
     "text": [
      "NA\n"
     ]
    }
   ],
   "source": [
    "import re\n",
    "import ast, sys\n",
    "string = \"I have a flight on 14/09/2018\"  #sys.stdin.read()\n",
    "\n",
    "# regex pattern\n",
    "pattern =  '^\\\\d{1,2}-(\\\\d{1,2})-\\\\d{4}$'# write regex to extract date and use grouping to extract month\n",
    "\n",
    "# store result\n",
    "result = re.search(pattern, string)\n",
    "\n",
    "# extract month using group command\n",
    "if result != None:\n",
    "    month = True # extract month using group command\n",
    "else:\n",
    "    month = \"NA\"\n",
    "\n",
    "# evaluate result - don't change the following piece of code, it is used to evaluate your regex\n",
    "print(month)"
   ]
  },
  {
   "cell_type": "code",
   "execution_count": 5,
   "metadata": {},
   "outputs": [
    {
     "name": "stdout",
     "output_type": "stream",
     "text": [
      "NA\n"
     ]
    }
   ],
   "source": [
    "# SAMPLE CODE\n",
    "\n",
    "import re\n",
    "import ast, sys\n",
    "string = \"I have a flight on 14/09/2018\"  #sys.stdin.read()\n",
    "\n",
    "# regex pattern\n",
    "pattern = \"\\\\d{2}-(\\\\d{2})-\\\\d{4}\" \n",
    "\n",
    "# store result\n",
    "result = re.search(pattern, string)\n",
    "\n",
    "# extract month using group command\n",
    "if result != None:\n",
    "    month = result.group(1)\n",
    "else:\n",
    "    month = \"NA\"\n",
    "\n",
    "# evaluate result - don't change the following piece of code, it is used to evaluate your regex\n",
    "print(month)\n",
    "\n",
    "\n"
   ]
  },
  {
   "cell_type": "markdown",
   "metadata": {},
   "source": [
    "### Groups\n",
    "Description\n",
    "Write a regular expression to extract the domain name from an email address. The format of the email is simple - the part before the ‘@’ symbol contains alphabets, numbers and underscores. The part after the ‘@’ symbol contains only alphabets followed by a dot followed by ‘com’ \n",
    " \n",
    "Sample input: \n",
    "user_name_123@gmail.com \n",
    " \n",
    "Expected output: \n",
    "gmail.com\n",
    "\n",
    "input user_name_123@gmail.com\n"
   ]
  },
  {
   "cell_type": "code",
   "execution_count": 9,
   "metadata": {},
   "outputs": [
    {
     "name": "stdout",
     "output_type": "stream",
     "text": [
      "gmail.com\n"
     ]
    }
   ],
   "source": [
    "import re\n",
    "import ast, sys\n",
    "string =  \"user_name_123@gmail.com\" # sys.stdin.read()\n",
    "\n",
    "# regex pattern\n",
    "pattern = \"\\\\w+@([A-z]+\\\\.com)\"\n",
    "# below codes are just partially meet the expection # pattern = '^[a-zA-Z0-9_]{1,}@(gmail.com)$' # write regex to extract email and use groups to extract domain name ofthe mail\n",
    "\n",
    "# store result\n",
    "result = re.search(pattern, string)\n",
    "\n",
    "# extract domain using group command\n",
    "if result != None:\n",
    "    domain =result.group(1) # use group to extract the domain from result\n",
    "else:\n",
    "    domain = \"NA\"\n",
    "\n",
    "# evaluate result - don't change the following piece of code, it is used to evaluate your regex\n",
    "print(domain)"
   ]
  },
  {
   "cell_type": "code",
   "execution_count": 10,
   "metadata": {},
   "outputs": [
    {
     "name": "stdout",
     "output_type": "stream",
     "text": [
      "gmail.com\n"
     ]
    }
   ],
   "source": [
    "# sample code\n",
    "\n",
    "import re\n",
    "import ast, sys\n",
    "string =  \"user_name_123@gmail.com\" # sys.stdin.read()\n",
    "\n",
    "# regex pattern\n",
    "pattern = \"\\\\w+@([A-z]+\\\\.com)\"\n",
    "\n",
    "# store result\n",
    "result = re.search(pattern, string)\n",
    "\n",
    "# extract domain using group command\n",
    "if result != None:\n",
    "    domain = result.group(1)\n",
    "else:\n",
    "    domain = \"NA\"\n",
    "\n",
    "# evaluate result - don't change the following piece of code, it is used to evaluate your regex\n",
    "print(domain)"
   ]
  }
 ],
 "metadata": {
  "kernelspec": {
   "display_name": "Python 3",
   "language": "python",
   "name": "python3"
  },
  "language_info": {
   "codemirror_mode": {
    "name": "ipython",
    "version": 3
   },
   "file_extension": ".py",
   "mimetype": "text/x-python",
   "name": "python",
   "nbconvert_exporter": "python",
   "pygments_lexer": "ipython3",
   "version": "3.12.0"
  }
 },
 "nbformat": 4,
 "nbformat_minor": 2
}
